{
 "nbformat": 4,
 "nbformat_minor": 0,
 "metadata": {
  "colab": {
   "provenance": [],
   "gpuType": "T4",
   "mount_file_id": "1HZG13QDTQ3OpHeUDwpbrw4H8I7Fvu_2N",
   "authorship_tag": "ABX9TyPKWPKgZugRhfZD4x5pgiJT"
  },
  "kernelspec": {
   "name": "python3",
   "language": "python",
   "display_name": "Python 3 (ipykernel)"
  },
  "language_info": {
   "name": "python"
  },
  "accelerator": "GPU"
 },
 "cells": [
  {
   "cell_type": "code",
   "source": [
    "!pip install tensorflow-recommenders\n",
    "!pip install pprintpp"
   ],
   "metadata": {
    "colab": {
     "base_uri": "https://localhost:8080/"
    },
    "id": "FgSoP0aMKLg9",
    "executionInfo": {
     "status": "ok",
     "timestamp": 1702118996635,
     "user_tz": 300,
     "elapsed": 23462,
     "user": {
      "displayName": "Keon Roohani",
      "userId": "07278293013720871594"
     }
    },
    "outputId": "64ca421b-a549-4034-af09-dbeefa70d69a"
   },
   "execution_count": 1,
   "outputs": [
    {
     "output_type": "stream",
     "name": "stdout",
     "text": [
      "Collecting tensorflow-recommenders\n",
      "  Downloading tensorflow_recommenders-0.7.3-py3-none-any.whl (96 kB)\n",
      "\u001B[2K     \u001B[90m━━━━━━━━━━━━━━━━━━━━━━━━━━━━━━━━━━━━━━━━\u001B[0m \u001B[32m96.2/96.2 kB\u001B[0m \u001B[31m2.4 MB/s\u001B[0m eta \u001B[36m0:00:00\u001B[0m\n",
      "\u001B[?25hRequirement already satisfied: absl-py>=0.1.6 in /usr/local/lib/python3.10/dist-packages (from tensorflow-recommenders) (1.4.0)\n",
      "Requirement already satisfied: tensorflow>=2.9.0 in /usr/local/lib/python3.10/dist-packages (from tensorflow-recommenders) (2.14.0)\n",
      "Requirement already satisfied: astunparse>=1.6.0 in /usr/local/lib/python3.10/dist-packages (from tensorflow>=2.9.0->tensorflow-recommenders) (1.6.3)\n",
      "Requirement already satisfied: flatbuffers>=23.5.26 in /usr/local/lib/python3.10/dist-packages (from tensorflow>=2.9.0->tensorflow-recommenders) (23.5.26)\n",
      "Requirement already satisfied: gast!=0.5.0,!=0.5.1,!=0.5.2,>=0.2.1 in /usr/local/lib/python3.10/dist-packages (from tensorflow>=2.9.0->tensorflow-recommenders) (0.5.4)\n",
      "Requirement already satisfied: google-pasta>=0.1.1 in /usr/local/lib/python3.10/dist-packages (from tensorflow>=2.9.0->tensorflow-recommenders) (0.2.0)\n",
      "Requirement already satisfied: h5py>=2.9.0 in /usr/local/lib/python3.10/dist-packages (from tensorflow>=2.9.0->tensorflow-recommenders) (3.9.0)\n",
      "Requirement already satisfied: libclang>=13.0.0 in /usr/local/lib/python3.10/dist-packages (from tensorflow>=2.9.0->tensorflow-recommenders) (16.0.6)\n",
      "Requirement already satisfied: ml-dtypes==0.2.0 in /usr/local/lib/python3.10/dist-packages (from tensorflow>=2.9.0->tensorflow-recommenders) (0.2.0)\n",
      "Requirement already satisfied: numpy>=1.23.5 in /usr/local/lib/python3.10/dist-packages (from tensorflow>=2.9.0->tensorflow-recommenders) (1.23.5)\n",
      "Requirement already satisfied: opt-einsum>=2.3.2 in /usr/local/lib/python3.10/dist-packages (from tensorflow>=2.9.0->tensorflow-recommenders) (3.3.0)\n",
      "Requirement already satisfied: packaging in /usr/local/lib/python3.10/dist-packages (from tensorflow>=2.9.0->tensorflow-recommenders) (23.2)\n",
      "Requirement already satisfied: protobuf!=4.21.0,!=4.21.1,!=4.21.2,!=4.21.3,!=4.21.4,!=4.21.5,<5.0.0dev,>=3.20.3 in /usr/local/lib/python3.10/dist-packages (from tensorflow>=2.9.0->tensorflow-recommenders) (3.20.3)\n",
      "Requirement already satisfied: setuptools in /usr/local/lib/python3.10/dist-packages (from tensorflow>=2.9.0->tensorflow-recommenders) (67.7.2)\n",
      "Requirement already satisfied: six>=1.12.0 in /usr/local/lib/python3.10/dist-packages (from tensorflow>=2.9.0->tensorflow-recommenders) (1.16.0)\n",
      "Requirement already satisfied: termcolor>=1.1.0 in /usr/local/lib/python3.10/dist-packages (from tensorflow>=2.9.0->tensorflow-recommenders) (2.3.0)\n",
      "Requirement already satisfied: typing-extensions>=3.6.6 in /usr/local/lib/python3.10/dist-packages (from tensorflow>=2.9.0->tensorflow-recommenders) (4.5.0)\n",
      "Requirement already satisfied: wrapt<1.15,>=1.11.0 in /usr/local/lib/python3.10/dist-packages (from tensorflow>=2.9.0->tensorflow-recommenders) (1.14.1)\n",
      "Requirement already satisfied: tensorflow-io-gcs-filesystem>=0.23.1 in /usr/local/lib/python3.10/dist-packages (from tensorflow>=2.9.0->tensorflow-recommenders) (0.34.0)\n",
      "Requirement already satisfied: grpcio<2.0,>=1.24.3 in /usr/local/lib/python3.10/dist-packages (from tensorflow>=2.9.0->tensorflow-recommenders) (1.59.3)\n",
      "Requirement already satisfied: tensorboard<2.15,>=2.14 in /usr/local/lib/python3.10/dist-packages (from tensorflow>=2.9.0->tensorflow-recommenders) (2.14.1)\n",
      "Requirement already satisfied: tensorflow-estimator<2.15,>=2.14.0 in /usr/local/lib/python3.10/dist-packages (from tensorflow>=2.9.0->tensorflow-recommenders) (2.14.0)\n",
      "Requirement already satisfied: keras<2.15,>=2.14.0 in /usr/local/lib/python3.10/dist-packages (from tensorflow>=2.9.0->tensorflow-recommenders) (2.14.0)\n",
      "Requirement already satisfied: wheel<1.0,>=0.23.0 in /usr/local/lib/python3.10/dist-packages (from astunparse>=1.6.0->tensorflow>=2.9.0->tensorflow-recommenders) (0.42.0)\n",
      "Requirement already satisfied: google-auth<3,>=1.6.3 in /usr/local/lib/python3.10/dist-packages (from tensorboard<2.15,>=2.14->tensorflow>=2.9.0->tensorflow-recommenders) (2.17.3)\n",
      "Requirement already satisfied: google-auth-oauthlib<1.1,>=0.5 in /usr/local/lib/python3.10/dist-packages (from tensorboard<2.15,>=2.14->tensorflow>=2.9.0->tensorflow-recommenders) (1.0.0)\n",
      "Requirement already satisfied: markdown>=2.6.8 in /usr/local/lib/python3.10/dist-packages (from tensorboard<2.15,>=2.14->tensorflow>=2.9.0->tensorflow-recommenders) (3.5.1)\n",
      "Requirement already satisfied: requests<3,>=2.21.0 in /usr/local/lib/python3.10/dist-packages (from tensorboard<2.15,>=2.14->tensorflow>=2.9.0->tensorflow-recommenders) (2.31.0)\n",
      "Requirement already satisfied: tensorboard-data-server<0.8.0,>=0.7.0 in /usr/local/lib/python3.10/dist-packages (from tensorboard<2.15,>=2.14->tensorflow>=2.9.0->tensorflow-recommenders) (0.7.2)\n",
      "Requirement already satisfied: werkzeug>=1.0.1 in /usr/local/lib/python3.10/dist-packages (from tensorboard<2.15,>=2.14->tensorflow>=2.9.0->tensorflow-recommenders) (3.0.1)\n",
      "Requirement already satisfied: cachetools<6.0,>=2.0.0 in /usr/local/lib/python3.10/dist-packages (from google-auth<3,>=1.6.3->tensorboard<2.15,>=2.14->tensorflow>=2.9.0->tensorflow-recommenders) (5.3.2)\n",
      "Requirement already satisfied: pyasn1-modules>=0.2.1 in /usr/local/lib/python3.10/dist-packages (from google-auth<3,>=1.6.3->tensorboard<2.15,>=2.14->tensorflow>=2.9.0->tensorflow-recommenders) (0.3.0)\n",
      "Requirement already satisfied: rsa<5,>=3.1.4 in /usr/local/lib/python3.10/dist-packages (from google-auth<3,>=1.6.3->tensorboard<2.15,>=2.14->tensorflow>=2.9.0->tensorflow-recommenders) (4.9)\n",
      "Requirement already satisfied: requests-oauthlib>=0.7.0 in /usr/local/lib/python3.10/dist-packages (from google-auth-oauthlib<1.1,>=0.5->tensorboard<2.15,>=2.14->tensorflow>=2.9.0->tensorflow-recommenders) (1.3.1)\n",
      "Requirement already satisfied: charset-normalizer<4,>=2 in /usr/local/lib/python3.10/dist-packages (from requests<3,>=2.21.0->tensorboard<2.15,>=2.14->tensorflow>=2.9.0->tensorflow-recommenders) (3.3.2)\n",
      "Requirement already satisfied: idna<4,>=2.5 in /usr/local/lib/python3.10/dist-packages (from requests<3,>=2.21.0->tensorboard<2.15,>=2.14->tensorflow>=2.9.0->tensorflow-recommenders) (3.6)\n",
      "Requirement already satisfied: urllib3<3,>=1.21.1 in /usr/local/lib/python3.10/dist-packages (from requests<3,>=2.21.0->tensorboard<2.15,>=2.14->tensorflow>=2.9.0->tensorflow-recommenders) (2.0.7)\n",
      "Requirement already satisfied: certifi>=2017.4.17 in /usr/local/lib/python3.10/dist-packages (from requests<3,>=2.21.0->tensorboard<2.15,>=2.14->tensorflow>=2.9.0->tensorflow-recommenders) (2023.11.17)\n",
      "Requirement already satisfied: MarkupSafe>=2.1.1 in /usr/local/lib/python3.10/dist-packages (from werkzeug>=1.0.1->tensorboard<2.15,>=2.14->tensorflow>=2.9.0->tensorflow-recommenders) (2.1.3)\n",
      "Requirement already satisfied: pyasn1<0.6.0,>=0.4.6 in /usr/local/lib/python3.10/dist-packages (from pyasn1-modules>=0.2.1->google-auth<3,>=1.6.3->tensorboard<2.15,>=2.14->tensorflow>=2.9.0->tensorflow-recommenders) (0.5.1)\n",
      "Requirement already satisfied: oauthlib>=3.0.0 in /usr/local/lib/python3.10/dist-packages (from requests-oauthlib>=0.7.0->google-auth-oauthlib<1.1,>=0.5->tensorboard<2.15,>=2.14->tensorflow>=2.9.0->tensorflow-recommenders) (3.2.2)\n",
      "Installing collected packages: tensorflow-recommenders\n",
      "Successfully installed tensorflow-recommenders-0.7.3\n",
      "Collecting pprintpp\n",
      "  Downloading pprintpp-0.4.0-py2.py3-none-any.whl (16 kB)\n",
      "Installing collected packages: pprintpp\n",
      "Successfully installed pprintpp-0.4.0\n"
     ]
    }
   ]
  },
  {
   "cell_type": "code",
   "source": [
    "%cd \\Users\\darth\\PycharmProjects\\FlavorFinder\\flavorfinder"
   ],
   "metadata": {
    "colab": {
     "base_uri": "https://localhost:8080/"
    },
    "id": "5gda1fUwKUsX",
    "executionInfo": {
     "status": "ok",
     "timestamp": 1702118996965,
     "user_tz": 300,
     "elapsed": 334,
     "user": {
      "displayName": "Keon Roohani",
      "userId": "07278293013720871594"
     }
    },
    "outputId": "9f312349-2b47-43b8-bebc-3b5d030a427d",
    "ExecuteTime": {
     "end_time": "2023-12-09T18:58:54.411461100Z",
     "start_time": "2023-12-09T18:58:54.401487700Z"
    }
   },
   "execution_count": 6,
   "outputs": [
    {
     "name": "stdout",
     "output_type": "stream",
     "text": [
      "C:\\Users\\darth\\PycharmProjects\\FlavorFinder\\flavorfinder\n"
     ]
    },
    {
     "name": "stderr",
     "output_type": "stream",
     "text": [
      "C:\\Users\\darth\\AppData\\Local\\Programs\\Python\\Python39\\lib\\site-packages\\IPython\\core\\magics\\osm.py:417: UserWarning: using dhist requires you to install the `pickleshare` library.\n",
      "  self.shell.db['dhist'] = compress_dhist(dhist)[-100:]\n"
     ]
    }
   ]
  },
  {
   "cell_type": "code",
   "execution_count": 7,
   "metadata": {
    "colab": {
     "base_uri": "https://localhost:8080/"
    },
    "id": "dPW-UBROKCbL",
    "executionInfo": {
     "status": "ok",
     "timestamp": 1702119080020,
     "user_tz": 300,
     "elapsed": 83058,
     "user": {
      "displayName": "Keon Roohani",
      "userId": "07278293013720871594"
     }
    },
    "outputId": "f1d67a02-157d-4252-f2b1-e7f8d11b336e",
    "ExecuteTime": {
     "end_time": "2023-12-09T18:59:17.632933800Z",
     "start_time": "2023-12-09T18:58:54.966975400Z"
    }
   },
   "outputs": [
    {
     "name": "stdout",
     "output_type": "stream",
     "text": [
      "WARNING:tensorflow:From C:\\Users\\darth\\AppData\\Local\\Programs\\Python\\Python39\\lib\\site-packages\\keras\\src\\backend.py:873: The name tf.get_default_graph is deprecated. Please use tf.compat.v1.get_default_graph instead.\n",
      "Epoch 1/10\n",
      "WARNING:tensorflow:From C:\\Users\\darth\\AppData\\Local\\Programs\\Python\\Python39\\lib\\site-packages\\keras\\src\\utils\\tf_utils.py:492: The name tf.ragged.RaggedTensorValue is deprecated. Please use tf.compat.v1.ragged.RaggedTensorValue instead.\n",
      "86/86 [==============================] - 5s 42ms/step - root_mean_squared_error: 4.4918 - loss: 20.1493 - regularization_loss: 0.0000e+00 - total_loss: 20.1493\n",
      "Epoch 2/10\n",
      "86/86 [==============================] - 1s 10ms/step - root_mean_squared_error: 4.1499 - loss: 17.1901 - regularization_loss: 0.0000e+00 - total_loss: 17.1901\n",
      "Epoch 3/10\n",
      "86/86 [==============================] - 1s 10ms/step - root_mean_squared_error: 3.7224 - loss: 13.8229 - regularization_loss: 0.0000e+00 - total_loss: 13.8229\n",
      "Epoch 4/10\n",
      "86/86 [==============================] - 1s 9ms/step - root_mean_squared_error: 3.2325 - loss: 10.4189 - regularization_loss: 0.0000e+00 - total_loss: 10.4189\n",
      "Epoch 5/10\n",
      "86/86 [==============================] - 1s 9ms/step - root_mean_squared_error: 2.7290 - loss: 7.4236 - regularization_loss: 0.0000e+00 - total_loss: 7.4236\n",
      "Epoch 6/10\n",
      "86/86 [==============================] - 1s 10ms/step - root_mean_squared_error: 2.2558 - loss: 5.0716 - regularization_loss: 0.0000e+00 - total_loss: 5.0716\n",
      "Epoch 7/10\n",
      "86/86 [==============================] - 1s 10ms/step - root_mean_squared_error: 1.8462 - loss: 3.3975 - regularization_loss: 0.0000e+00 - total_loss: 3.3975\n",
      "Epoch 8/10\n",
      "86/86 [==============================] - 1s 10ms/step - root_mean_squared_error: 1.5210 - loss: 2.3074 - regularization_loss: 0.0000e+00 - total_loss: 2.3074\n",
      "Epoch 9/10\n",
      "86/86 [==============================] - 1s 10ms/step - root_mean_squared_error: 1.2869 - loss: 1.6537 - regularization_loss: 0.0000e+00 - total_loss: 1.6537\n",
      "Epoch 10/10\n",
      "86/86 [==============================] - 1s 10ms/step - root_mean_squared_error: 1.1359 - loss: 1.2899 - regularization_loss: 0.0000e+00 - total_loss: 1.2899\n"
     ]
    },
    {
     "data": {
      "text/plain": "<keras.src.callbacks.History at 0x20486be0490>"
     },
     "execution_count": 7,
     "metadata": {},
     "output_type": "execute_result"
    }
   ],
   "source": [
    "import pandas as pd\n",
    "import tensorflow as tf\n",
    "import tensorflow_recommenders as tfrs\n",
    "\n",
    "interaction_data = pd.read_csv(\"data/RAW_interactions.csv\")\n",
    "recipe_data = pd.read_csv(\"data/RAW_recipes.csv\")\n",
    "\n",
    "interaction_train = pd.read_csv(\"data/interactions_train.csv\")\n",
    "interaction_test = pd.read_csv(\"data/interactions_test.csv\")\n",
    "interaction_data = interaction_data.astype({'user_id': 'string', 'recipe_id':'string'})\n",
    "interaction_train = interaction_train.astype({'user_id': 'string', 'recipe_id':'string'})\n",
    "interaction_test = interaction_test.astype({'user_id': 'string', 'recipe_id':'string'})\n",
    "class RankingModel(tf.keras.Model):\n",
    "\n",
    "    def __init__(self):\n",
    "        super().__init__()\n",
    "        embedding_dimension = 32\n",
    "\n",
    "        self.user_embeddings = tf.keras.Sequential([\n",
    "                                    tf.keras.layers.experimental.preprocessing.StringLookup(\n",
    "                                        vocabulary=uniqueUserIds, mask_token=None),\n",
    "                                        # add addional embedding to account for unknow tokens\n",
    "                                    tf.keras.layers.Embedding(len(uniqueUserIds)+1, embedding_dimension)\n",
    "                                    ])\n",
    "\n",
    "        self.product_embeddings = tf.keras.Sequential([\n",
    "                                    tf.keras.layers.experimental.preprocessing.StringLookup(\n",
    "                                        vocabulary=uniqueFoodIds, mask_token=None),\n",
    "                                    # add addional embedding to account for unknow tokens\n",
    "                                    tf.keras.layers.Embedding(len(uniqueFoodIds)+1, embedding_dimension)\n",
    "                                    ])\n",
    "        # Set up a retrieval task and evaluation metrics over the\n",
    "        # entire dataset of candidates.\n",
    "        self.ratings = tf.keras.Sequential([\n",
    "                            tf.keras.layers.Dense(256, activation=\"relu\"),\n",
    "                            tf.keras.layers.Dense(64,  activation=\"relu\"),\n",
    "                            tf.keras.layers.Dense(1)\n",
    "                              ])\n",
    "\n",
    "    def call(self, userId, foodId):\n",
    "        user_embeddings  = self.user_embeddings (userId)\n",
    "        food_embeddings = self.product_embeddings(foodId)\n",
    "        return self.ratings(tf.concat([user_embeddings, food_embeddings], axis=1))\n",
    "\n",
    "# Build a model.\n",
    "class FoodModel(tfrs.models.Model):\n",
    "\n",
    "    def __init__(self):\n",
    "        super().__init__()\n",
    "        self.ranking_model: tf.keras.Model = RankingModel()\n",
    "        self.task: tf.keras.layers.Layer   = tfrs.tasks.Ranking(\n",
    "                                                    loss    =  tf.keras.losses.MeanSquaredError(),\n",
    "                                                    metrics = [tf.keras.metrics.RootMeanSquaredError()])\n",
    "\n",
    "\n",
    "    def compute_loss(self, features, training=False):\n",
    "        rating_predictions = self.ranking_model(features[\"userID\"], features[\"foodID\"]  )\n",
    "\n",
    "        return self.task( labels=features[\"rating\"], predictions=rating_predictions)\n",
    "uniqueUserIds = interaction_data.user_id.unique()\n",
    "uniqueFoodIds = interaction_data.recipe_id.unique()\n",
    "train_data = tf.data.Dataset.from_tensor_slices(\n",
    "{\n",
    "    \"userID\":tf.cast(interaction_train.user_id.values, tf.string),\n",
    "    \"foodID\":tf.cast(interaction_train.recipe_id.values, tf.string),\n",
    "    \"rating\":tf.cast(interaction_train.rating.values, tf.float32)\n",
    "})\n",
    "\n",
    "test_data = tf.data.Dataset.from_tensor_slices(\n",
    "{\n",
    "    \"userID\":tf.cast(interaction_test.user_id.values, tf.string),\n",
    "    \"foodID\":tf.cast(interaction_test.recipe_id.values, tf.string),\n",
    "    \"rating\":tf.cast(interaction_test.rating.values, tf.float32)\n",
    "})\n",
    "tf.random.set_seed(42)\n",
    "\n",
    "train_data = train_data.shuffle(100_000, seed=42, reshuffle_each_iteration=False)\n",
    "model = FoodModel()\n",
    "model.compile(optimizer=tf.keras.optimizers.Adagrad(learning_rate=0.001))\n",
    "cached_train = train_data.shuffle(100_000).batch(8192).cache()\n",
    "cached_test = test_data.batch(4096).cache()\n",
    "model.fit(cached_train, epochs=10)"
   ]
  },
  {
   "cell_type": "code",
   "source": [
    "from tqdm import tqdm\n",
    "\n",
    "def predict_all_user_food_pairs(model, uniqueUserIds, uniqueFoodIds, batch_size=64):\n",
    "    predictions_df = pd.DataFrame(columns=[\"user_id\", \"recipe_id\", \"prediction\"])\n",
    "    \n",
    "    i = 0\n",
    "    for user_batch in tf.data.Dataset.from_tensor_slices(uniqueUserIds).batch(batch_size):\n",
    "        i+=1\n",
    "        print(\"i \" , i)\n",
    "        user_batch = tf.cast(user_batch, tf.string)\n",
    "        user_embeddings = model.ranking_model.user_embeddings(user_batch)\n",
    "\n",
    "        for food_batch in tf.data.Dataset.from_tensor_slices(uniqueFoodIds).batch(batch_size):\n",
    "            food_batch = tf.cast(food_batch, tf.string)\n",
    "            food_embeddings = model.ranking_model.product_embeddings(food_batch)\n",
    "\n",
    "            user_embeddings_expanded = tf.repeat(user_embeddings, len(food_batch), axis=0)\n",
    "            food_embeddings_expanded = tf.tile(food_embeddings, [len(user_batch), 1])\n",
    "\n",
    "            batch_predictions = model.ranking_model.ratings(\n",
    "                tf.concat([user_embeddings_expanded, food_embeddings_expanded], axis=1)\n",
    "            )\n",
    "\n",
    "            batch_df = pd.DataFrame({\n",
    "                \"user_id\": tf.repeat(user_batch, len(food_batch)).numpy(),\n",
    "                \"recipe_id\": tf.tile(food_batch, [len(user_batch)]).numpy(),\n",
    "                \"prediction\": batch_predictions.numpy().flatten()\n",
    "            })\n",
    "\n",
    "            predictions_df = pd.concat([predictions_df, batch_df], ignore_index=True)\n",
    "\n",
    "    return predictions_df\n",
    "\n",
    "# Assuming you already have a trained model called 'model' and uniqueUserIds and uniqueFoodIds\n",
    "print(uniqueFoodIds)\n",
    "print([uniqueUserIds[0]])\n",
    "# predictions_df = predict_all_user_food_pairs(model, [uniqueUserIds[0]], uniqueFoodIds)\n",
    "# \n",
    "# average_predictions_per_user = predictions_df.groupby(\"user_id\")[\"prediction\"].mean().reset_index()\n",
    "# \n",
    "# average_predictions_per_user['user_id'] = average_predictions_per_user['user_id'].str.decode('utf-8')\n",
    "\n"
   ],
   "metadata": {
    "id": "yHwI-Ab9gWak",
    "executionInfo": {
     "status": "ok",
     "timestamp": 1702119157441,
     "user_tz": 300,
     "elapsed": 1063,
     "user": {
      "displayName": "Keon Roohani",
      "userId": "07278293013720871594"
     }
    },
    "ExecuteTime": {
     "end_time": "2023-12-09T20:25:53.114486Z",
     "start_time": "2023-12-09T20:25:53.101520900Z"
    }
   },
   "execution_count": 43,
   "outputs": [
    {
     "name": "stdout",
     "output_type": "stream",
     "text": [
      "<StringArray>\n",
      "[ '40893',  '44394',  '85009', '120345', '134728', '197160', '200236',\n",
      " '225241', '254596', '306785',\n",
      " ...\n",
      "  '50804', '190698', '492861', '273409', '249924', '470995', '241491',\n",
      " '257796',  '72730', '386618']\n",
      "Length: 231637, dtype: string\n",
      "['38094']\n"
     ]
    }
   ]
  },
  {
   "cell_type": "code",
   "source": [
    "predictions_df.to_csv('test.csv', index=False)"
   ],
   "metadata": {
    "id": "abqdUvK_iUOA",
    "executionInfo": {
     "status": "ok",
     "timestamp": 1702108644605,
     "user_tz": 300,
     "elapsed": 9033,
     "user": {
      "displayName": "Keon Roohani",
      "userId": "07278293013720871594"
     }
    },
    "ExecuteTime": {
     "end_time": "2023-12-09T19:29:43.035022100Z",
     "start_time": "2023-12-09T19:29:38.814307200Z"
    }
   },
   "execution_count": 29,
   "outputs": []
  },
  {
   "cell_type": "code",
   "source": [
    "print(average_predictions_per_user)\n",
    "print(predictions_df)"
   ],
   "metadata": {
    "colab": {
     "base_uri": "https://localhost:8080/"
    },
    "id": "SZADh8IajcpK",
    "executionInfo": {
     "status": "ok",
     "timestamp": 1702119174166,
     "user_tz": 300,
     "elapsed": 6,
     "user": {
      "displayName": "Keon Roohani",
      "userId": "07278293013720871594"
     }
    },
    "outputId": "46c11b61-6dce-496c-bd70-d8ddda1a6b05",
    "ExecuteTime": {
     "end_time": "2023-12-09T19:52:17.951063Z",
     "start_time": "2023-12-09T19:52:17.941089800Z"
    }
   },
   "execution_count": 36,
   "outputs": [
    {
     "name": "stdout",
     "output_type": "stream",
     "text": [
      "  user_id  prediction\n",
      "0   38094    4.050269\n",
      "         user_id  recipe_id  prediction\n",
      "0       b'38094'   b'40893'    4.128861\n",
      "1       b'38094'   b'44394'    4.034562\n",
      "2       b'38094'   b'85009'    4.103045\n",
      "3       b'38094'  b'120345'    4.100914\n",
      "4       b'38094'  b'134728'    4.059107\n",
      "...          ...        ...         ...\n",
      "231632  b'38094'  b'470995'    4.102331\n",
      "231633  b'38094'  b'241491'    3.998975\n",
      "231634  b'38094'  b'257796'    4.097702\n",
      "231635  b'38094'   b'72730'    4.092589\n",
      "231636  b'38094'  b'386618'    4.026940\n",
      "\n",
      "[231637 rows x 3 columns]\n"
     ]
    }
   ]
  },
  {
   "cell_type": "code",
   "source": [
    "average_predictions_per_user.to_csv('average_predictions_per_user.csv', index=False)"
   ],
   "metadata": {
    "id": "Rw_Gjtirkxka",
    "executionInfo": {
     "status": "ok",
     "timestamp": 1702108635575,
     "user_tz": 300,
     "elapsed": 4,
     "user": {
      "displayName": "Keon Roohani",
      "userId": "07278293013720871594"
     }
    },
    "ExecuteTime": {
     "end_time": "2023-12-09T19:29:43.096856900Z",
     "start_time": "2023-12-09T19:29:43.050979300Z"
    }
   },
   "execution_count": 31,
   "outputs": []
  },
  {
   "cell_type": "code",
   "execution_count": 42,
   "outputs": [
    {
     "name": "stdout",
     "output_type": "stream",
     "text": [
      "WARNING:tensorflow:Skipping full serialization of Keras layer <__main__.FoodModel object at 0x00000204C84F05B0>, because it is not built.\n"
     ]
    },
    {
     "name": "stderr",
     "output_type": "stream",
     "text": [
      "WARNING:tensorflow:Skipping full serialization of Keras layer <__main__.FoodModel object at 0x00000204C84F05B0>, because it is not built.\n"
     ]
    },
    {
     "name": "stdout",
     "output_type": "stream",
     "text": [
      "INFO:tensorflow:Assets written to: models/assets\n"
     ]
    },
    {
     "name": "stderr",
     "output_type": "stream",
     "text": [
      "INFO:tensorflow:Assets written to: models/assets\n"
     ]
    }
   ],
   "source": [
    "# Save the weights using the `checkpoint_path` format\n",
    "tf.saved_model.save(model, \"models/\")"
   ],
   "metadata": {
    "collapsed": false,
    "ExecuteTime": {
     "end_time": "2023-12-09T20:12:15.767226200Z",
     "start_time": "2023-12-09T20:12:14.226346600Z"
    }
   }
  },
  {
   "cell_type": "code",
   "execution_count": null,
   "outputs": [],
   "source": [],
   "metadata": {
    "collapsed": false
   }
  },
  {
   "cell_type": "code",
   "execution_count": null,
   "outputs": [],
   "source": [],
   "metadata": {
    "collapsed": false
   }
  }
 ]
}
