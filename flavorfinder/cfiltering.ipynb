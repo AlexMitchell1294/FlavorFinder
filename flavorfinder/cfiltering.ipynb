{
 "cells": [
  {
   "cell_type": "code",
   "execution_count": 4,
   "outputs": [],
   "source": [
    "from collections import defaultdict\n",
    "import pandas as pd\n",
    "import csv\n",
    "import numpy as np\n",
    "from scipy import sparse\n",
    "from sklearn.metrics.pairwise import cosine_similarity"
   ],
   "metadata": {
    "collapsed": false,
    "ExecuteTime": {
     "end_time": "2023-12-14T04:02:47.970978900Z",
     "start_time": "2023-12-14T04:02:46.414926800Z"
    }
   },
   "id": "911b36364c4b3d"
  },
  {
   "cell_type": "code",
   "execution_count": 45,
   "outputs": [
    {
     "name": "stdout",
     "output_type": "stream",
     "text": [
      "Header: ['user_id', 'recipe_id', 'date', 'rating', 'u', 'i']\n"
     ]
    }
   ],
   "source": [
    "f = open('data/interactions_train.csv', 'r', encoding='utf-8-sig')\n",
    "f1 = open('data/interactions_test.csv', 'r', encoding='utf-8-sig')\n",
    "f2 = open('data/interactions_validation.csv', 'r', encoding='utf-8-sig')\n",
    "header = f.readline().strip().split(',')\n",
    "header = f1.readline().strip().split(',')\n",
    "header = f2.readline().strip().split(',')\n",
    "# del header[-1]\n",
    "dataset = []\n",
    "# Print the header and fields\n",
    "print(\"Header:\", header)\n",
    "for line in f:\n",
    "    fields = line.strip().split(',')\n",
    "    # del fields[-1]\n",
    "    d = dict(zip(header, fields))\n",
    "    dataset.append(d)\n",
    "for line in f1:\n",
    "    fields = line.strip().split(',')\n",
    "    # del fields[-1]\n",
    "    d = dict(zip(header, fields))\n",
    "    dataset.append(d)\n",
    "for line in f2:\n",
    "    fields = line.strip().split(',')\n",
    "    # del fields[-1]\n",
    "    d = dict(zip(header, fields))\n",
    "    dataset.append(d)\n",
    "f.close()\n",
    "f1.close()\n",
    "f2.close()\n",
    "\n",
    "df = pd.DataFrame(dataset)\n",
    "\n",
    "item_id_label = dict(zip(df['recipe_id'], range(len(df['recipe_id']))))\n",
    "item_id_label_reverse = dict(zip(range(len(df['recipe_id'])), df['recipe_id']))\n",
    "user_id_label = dict(zip(df['user_id'], range(len(df['user_id']))))\n",
    "user_id_label_reverse = dict(zip(range(len(df['user_id'])), df['user_id']))\n",
    "\n",
    "ratings = df['rating'].tolist()\n",
    "ratings = [float(i) for i in ratings]\n",
    "user_id = df['user_id'].tolist()\n",
    "user_id = [int(user_id_label[i]) for i in user_id]\n",
    "recipe_id = df['recipe_id'].tolist()\n",
    "recipe_id = [int(item_id_label[i]) for i in recipe_id]\n",
    "# print(df)\n",
    "# print(dataset)\n",
    "# print(len(recipe_id), len(user_id))\n",
    "# matrix = sparse.coo_matrix((ratings, (recipe_id, user_id)))\n",
    "matrix = sparse.csr_matrix((ratings,(recipe_id, user_id)))\n",
    "reviewsPerUser = defaultdict(list)\n",
    "reviewsPerItem = defaultdict(list)\n",
    "for d in dataset:\n",
    "    user = int(d['user_id'])\n",
    "    recipe = int(d['recipe_id'])\n",
    "    reviewsPerUser[user].append(d)\n",
    "    reviewsPerItem[recipe].append(d)\n",
    "# print(reviewsPerItem)\n",
    "# print(reviewsPerUser)\n",
    "\n",
    "ratingMean = sum([i for i in ratings]) / len(dataset)\n",
    "# print(ratingMean)\n",
    "labels = [float(d['rating']) for d in dataset]"
   ],
   "metadata": {
    "collapsed": false,
    "ExecuteTime": {
     "end_time": "2023-12-14T04:30:27.888548Z",
     "start_time": "2023-12-14T04:30:22.885058800Z"
    }
   },
   "id": "initial_id"
  },
  {
   "cell_type": "code",
   "execution_count": 46,
   "outputs": [
    {
     "name": "stdout",
     "output_type": "stream",
     "text": [
      "(718379, 718379)\n",
      "718379\n",
      "718379\n",
      "718379\n"
     ]
    }
   ],
   "source": [
    "print(matrix.shape)\n",
    "print(len(recipe_id))\n",
    "print(len(user_id))\n",
    "print(len(ratings))"
   ],
   "metadata": {
    "collapsed": false,
    "ExecuteTime": {
     "end_time": "2023-12-14T04:30:27.904505200Z",
     "start_time": "2023-12-14T04:30:27.888548Z"
    }
   },
   "id": "3b7f6a39ae92a41e"
  },
  {
   "cell_type": "code",
   "execution_count": 163,
   "outputs": [],
   "source": [
    "def Cosine(s1, s2):\n",
    "    dot_product = s1.dot(s2.T)\n",
    "    # print(s1, s2)\n",
    "    norm_s1 = np.linalg.norm(s1)\n",
    "    norm_s2 = np.linalg.norm(s2)\n",
    "\n",
    "    if norm_s1 == 0 or norm_s2 == 0:\n",
    "        return 0.1\n",
    "\n",
    "    return sum(dot_product / (norm_s1 * norm_s2))[0] + 0.1\n",
    "\n",
    "def predictRatingCosine(user, item):\n",
    "    if str(item) not in list(item_id_label.keys()):\n",
    "        return [], []\n",
    "    item=item_id_label[str(item)]\n",
    "    user=int(user)\n",
    "    ratings = []\n",
    "    similarities = []\n",
    "    for d in reviewsPerUser[user]:\n",
    "        # print(d)\n",
    "        i2 = d['recipe_id']\n",
    "        item2 = item_id_label[str(i2)]\n",
    "        if item2 == item:\n",
    "            ratings.append(0)\n",
    "        else:\n",
    "            ratings.append(float(d['rating']))\n",
    "        similarities.append(Cosine(matrix[[item2]].toarray().astype(float), matrix[[item]].toarray().astype(float)))\n",
    "    return similarities, ratings\n",
    "\n",
    "def predict_rating(sims, ratings):\n",
    "    if sum(sims) == 0:\n",
    "        return ratingMean\n",
    "    print(sims, ratings)\n",
    "    num = sum([sims[i] * ratings[i] for i in range(len(sims))])\n",
    "    return num/sum(sims)\n",
    "\n",
    "def MSE(predictions, labels):\n",
    "    differences = [(x-y)**2 for x,y in zip(predictions,labels)]\n",
    "    return sum(differences) / len(differences)"
   ],
   "metadata": {
    "collapsed": false,
    "ExecuteTime": {
     "end_time": "2023-12-14T06:10:32.220852400Z",
     "start_time": "2023-12-14T06:10:32.204895200Z"
    }
   },
   "id": "672f21bcf7006f33"
  },
  {
   "cell_type": "code",
   "execution_count": null,
   "outputs": [],
   "source": [
    "# cfPredictions = predictRatingCosine(38094,38094)\n",
    "ammount = 1000\n",
    "user_a = 5\n",
    "# pred_ratings = []\n",
    "# always_mean = []\n",
    "cfPredictions = [predictRatingCosine(2046, recipe_id[i]) for i in range(len(recipe_id[:ammount]))]\n",
    "# print(cfPredictions)\n",
    "pred_ratings = [predict_rating(i[0], i[1]) for i in cfPredictions]\n",
    "always_mean = [ratingMean for i in cfPredictions] \n",
    "print(MSE(pred_ratings, labels[:ammount]))\n",
    "print(MSE(always_mean, labels[:ammount]))"
   ],
   "metadata": {
    "collapsed": false,
    "is_executing": true,
    "ExecuteTime": {
     "start_time": "2023-12-14T06:12:35.209377400Z"
    }
   },
   "id": "de7fa43312f4b373"
  },
  {
   "cell_type": "code",
   "execution_count": null,
   "outputs": [],
   "source": [
    "item_id_label"
   ],
   "metadata": {
    "collapsed": false
   },
   "id": "16d2ae40d6eca8d8"
  },
  {
   "cell_type": "code",
   "execution_count": null,
   "outputs": [],
   "source": [],
   "metadata": {
    "collapsed": false
   },
   "id": "e3aef2fa7d3a6666"
  },
  {
   "cell_type": "code",
   "execution_count": null,
   "outputs": [],
   "source": [],
   "metadata": {
    "collapsed": false
   },
   "id": "189e86e9926e6c14"
  }
 ],
 "metadata": {
  "kernelspec": {
   "display_name": "Python 3",
   "language": "python",
   "name": "python3"
  },
  "language_info": {
   "codemirror_mode": {
    "name": "ipython",
    "version": 2
   },
   "file_extension": ".py",
   "mimetype": "text/x-python",
   "name": "python",
   "nbconvert_exporter": "python",
   "pygments_lexer": "ipython2",
   "version": "2.7.6"
  }
 },
 "nbformat": 4,
 "nbformat_minor": 5
}
